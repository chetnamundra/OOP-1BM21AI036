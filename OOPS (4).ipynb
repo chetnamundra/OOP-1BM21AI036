{
  "nbformat": 4,
  "nbformat_minor": 0,
  "metadata": {
    "colab": {
      "provenance": []
    },
    "kernelspec": {
      "name": "python3",
      "display_name": "Python 3"
    },
    "language_info": {
      "name": "python"
    }
  },
  "cells": [
    {
      "cell_type": "code",
      "execution_count": 2,
      "metadata": {
        "colab": {
          "base_uri": "https://localhost:8080/"
        },
        "id": "xGs5CcBx7VdT",
        "outputId": "bdf46160-f707-49f6-8b6f-cb32cf279c39"
      },
      "outputs": [
        {
          "output_type": "stream",
          "name": "stdout",
          "text": [
            "Enter the number of elements: 4\n",
            "Enter element: 5\n",
            "Enter element: 2\n",
            "Enter element: 12\n",
            "Enter element: 15\n",
            "The largest is:  15\n"
          ]
        }
      ],
      "source": [
        "def find_largest(numbers):\n",
        "    if not numbers:\n",
        "        return \"List is empty\"\n",
        "    largest = numbers[0]\n",
        "    for i in range(1,len(numbers)):\n",
        "        if numbers[i] > largest:\n",
        "            largest = numbers[i]\n",
        "    return largest\n",
        "\n",
        "def main():\n",
        "\n",
        "    a = []\n",
        "    n = int(input(\"Enter the number of elements: \"))\n",
        "    for i in range(n):\n",
        "        elem = int(input(\"Enter element: \"))\n",
        "        a.append(elem)\n",
        "    result = find_largest(a)\n",
        "    print(\"The largest is: \",result)\n",
        "\n",
        "if __name__ == \"__main__\":\n",
        "    main()"
      ]
    },
    {
      "cell_type": "code",
      "source": [
        "import math\n",
        "\n",
        "def find_area(n):\n",
        "    area = (3/2)* math.sqrt(3)*math.pow(n,2)\n",
        "    return area\n",
        "\n",
        "def main():\n",
        "    n = int(input(\"Enter the length of a side: \"))\n",
        "    area = find_area(n)\n",
        "    print(\"Area of hexagon: \", area)\n",
        "\n",
        "if __name__ == \"__main__\":\n",
        "    main()"
      ],
      "metadata": {
        "colab": {
          "base_uri": "https://localhost:8080/"
        },
        "id": "9W43xHX57bwA",
        "outputId": "b3a5c433-35d9-4abd-9e15-b276ce11306c"
      },
      "execution_count": 3,
      "outputs": [
        {
          "output_type": "stream",
          "name": "stdout",
          "text": [
            "Enter the length of a side: 6\n",
            "Area of hexagon:  93.53074360871938\n"
          ]
        }
      ]
    },
    {
      "cell_type": "code",
      "source": [
        "import re\n",
        "\n",
        "def is_valid_email(email):\n",
        "    pattern = r'^[\\w\\.-]+@[a-zA-Z0-9-]+\\.[a-zA-Z]{2,}$'\n",
        "\n",
        "    if re.match(pattern, email):\n",
        "        return True\n",
        "    else:\n",
        "        return False\n",
        "\n",
        "email_address = \"oopsISfun@gmail.com\"\n",
        "result = is_valid_email(email_address)\n",
        "\n",
        "if result:\n",
        "    print(f\"The email '{email_address}' is valid\")\n",
        "else:\n",
        "    print(f\"The email '{email_address}' is NOT valid\")"
      ],
      "metadata": {
        "colab": {
          "base_uri": "https://localhost:8080/"
        },
        "id": "UZSUBEt485Cd",
        "outputId": "41058ad2-eb41-44c6-d951-415025cb7fbe"
      },
      "execution_count": 5,
      "outputs": [
        {
          "output_type": "stream",
          "name": "stdout",
          "text": [
            "The email 'oopsISfun@gmail.com' is valid\n"
          ]
        }
      ]
    }
  ]
}