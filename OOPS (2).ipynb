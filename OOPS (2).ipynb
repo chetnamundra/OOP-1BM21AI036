{
 "cells": [
  {
   "cell_type": "code",
   "execution_count": 2,
   "id": "ba6d3b3e",
   "metadata": {},
   "outputs": [
    {
     "name": "stdout",
     "output_type": "stream",
     "text": [
      "Employee Name:  ABC\n",
      "Employee Designation:  Manager\n",
      "Employee Salary:  1000\n"
     ]
    }
   ],
   "source": [
    "class Employee:\n",
    "    __salary=0\n",
    "    def __init__(self,name,salary):\n",
    "        self.name=name\n",
    "        self.__salary=salary\n",
    "    \n",
    "    def work(self,designation):\n",
    "        self.designation=designation\n",
    "        \n",
    "    def show(self):\n",
    "        print(\"Employee Name: \",self.name)\n",
    "        print(\"Employee Designation: \",self.designation)\n",
    "        print(\"Employee Salary: \",self.__salary)\n",
    "        \n",
    "emp = Employee('ABC',1000)\n",
    "emp.work('Manager')\n",
    "emp.show()"
   ]
  },
  {
   "cell_type": "code",
   "execution_count": 1,
   "id": "64dcffaa",
   "metadata": {},
   "outputs": [
    {
     "name": "stdout",
     "output_type": "stream",
     "text": [
      "1.Withdraw\n",
      "2.Deposit\n",
      "Enter choice: 1\n",
      "Enter Amount: 1500\n",
      "Error: Limit Crossed\n",
      "Card Balance:  2000\n",
      "Card Limit:  1000\n"
     ]
    }
   ],
   "source": [
    "class CreditCard:\n",
    "    def __init__(self):\n",
    "        self.__limit = 1000\n",
    "        self._balance = 2000\n",
    "\n",
    "    def get_balance(self):\n",
    "        return self._balance\n",
    "\n",
    "    def withdraw(self, amount):\n",
    "        if amount > self._balance:\n",
    "            print(\"Error: Insufficient funds\")\n",
    "        elif amount>self.__limit:\n",
    "            print(\"Error: Limit Crossed\")\n",
    "        else:\n",
    "            self._balance -= amount\n",
    "\n",
    "    def deposit(self, amount):\n",
    "        if amount < 0:\n",
    "            print(\"Error: Invalid deposit amount\")\n",
    "        elif amount>self.__limit:\n",
    "            print(\"Error: Limit Crossed\")\n",
    "        else:\n",
    "            self._balance += amount\n",
    "    def display(self):\n",
    "        print(\"Card Balance: \",self._balance)\n",
    "        print(\"Card Limit: \",self.__limit)\n",
    "choice = int(input(\"1.Withdraw\\n2.Deposit\\nEnter choice: \"))        \n",
    "amount = int(input(\"Enter Amount: \"))\n",
    "card = CreditCard()\n",
    "card.get_balance()\n",
    "if choice == 1:\n",
    "    card.withdraw(amount)\n",
    "else:\n",
    "    card.deposit(amount)\n",
    "card.display()"
   ]
  }
 ],
 "metadata": {
  "kernelspec": {
   "display_name": "Python 3 (ipykernel)",
   "language": "python",
   "name": "python3"
  },
  "language_info": {
   "codemirror_mode": {
    "name": "ipython",
    "version": 3
   },
   "file_extension": ".py",
   "mimetype": "text/x-python",
   "name": "python",
   "nbconvert_exporter": "python",
   "pygments_lexer": "ipython3",
   "version": "3.11.3"
  }
 },
 "nbformat": 4,
 "nbformat_minor": 5
}
