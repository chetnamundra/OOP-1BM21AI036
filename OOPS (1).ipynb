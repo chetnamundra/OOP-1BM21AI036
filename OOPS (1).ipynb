{
 "cells": [
  {
   "cell_type": "code",
   "execution_count": 9,
   "id": "50c9c401",
   "metadata": {},
   "outputs": [
    {
     "name": "stdout",
     "output_type": "stream",
     "text": [
      "<__main__.Student object at 0x000002C548929590> is of type Student\n",
      "<__main__.Marks object at 0x000002C548924F50> is of type Marks\n"
     ]
    }
   ],
   "source": [
    "class Student:\n",
    "    pass\n",
    "class Marks:\n",
    "    pass\n",
    "stud = Student()\n",
    "eng = Marks()\n",
    "\n",
    "if isinstance(stud, Student):\n",
    "    print (stud,\"is of type Student\")\n",
    "\n",
    "if isinstance(eng, Marks):\n",
    "    print (eng, \"is of type Marks\")"
   ]
  },
  {
   "cell_type": "code",
   "execution_count": 17,
   "id": "d4be25ad",
   "metadata": {},
   "outputs": [
    {
     "name": "stdout",
     "output_type": "stream",
     "text": [
      "Complex Number: 5+i0\n"
     ]
    }
   ],
   "source": [
    "class COMPLEX:\n",
    "    def __init__(self,real_part,img_part):\n",
    "        self.real_part = real_part\n",
    "        self.img_part = img_part\n",
    "\n",
    "C1 = COMPLEX(2,1)\n",
    "C2 = COMPLEX(3,-1)\n",
    "C3 = COMPLEX(0,0)\n",
    "C3.real_part= C1.real_part + C2.real_part\n",
    "C3.img_part= C1.img_part + C2.img_part\n",
    "\n",
    "print(\"Complex Number: {}+i{}\".format(str(C3.real_part),str(C3.img_part)))"
   ]
  },
  {
   "cell_type": "code",
   "execution_count": null,
   "id": "403a6029",
   "metadata": {},
   "outputs": [],
   "source": []
  }
 ],
 "metadata": {
  "kernelspec": {
   "display_name": "Python 3 (ipykernel)",
   "language": "python",
   "name": "python3"
  },
  "language_info": {
   "codemirror_mode": {
    "name": "ipython",
    "version": 3
   },
   "file_extension": ".py",
   "mimetype": "text/x-python",
   "name": "python",
   "nbconvert_exporter": "python",
   "pygments_lexer": "ipython3",
   "version": "3.11.3"
  }
 },
 "nbformat": 4,
 "nbformat_minor": 5
}
