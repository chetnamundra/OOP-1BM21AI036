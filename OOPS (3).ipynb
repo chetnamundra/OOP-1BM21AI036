{
  "nbformat": 4,
  "nbformat_minor": 0,
  "metadata": {
    "colab": {
      "provenance": []
    },
    "kernelspec": {
      "name": "python3",
      "display_name": "Python 3"
    },
    "language_info": {
      "name": "python"
    }
  },
  "cells": [
    {
      "cell_type": "code",
      "source": [
        "class Songs:\n",
        "    def __init__(self,lyrics):\n",
        "        self.lyrics = lyrics\n",
        "    def sing_me_a_song(self):\n",
        "        for lyric in self.lyrics:\n",
        "            print(lyric)\n",
        "lyrics = [\"Old MacDonald had a farm\",\n",
        "            \"Ee i ee i o\",\n",
        "            \"And on his farm he had some cows\",\n",
        "            \"Ee i ee i oh\",\n",
        "            \"With a moo-moo here\",\n",
        "            \"And a moo-moo there\",\n",
        "            \"Here a moo, there a moo\",\n",
        "            \"Everywhere a moo-moo\"]\n",
        "\n",
        "Song = Songs(lyrics)\n",
        "Song.sing_me_a_song()"
      ],
      "metadata": {
        "colab": {
          "base_uri": "https://localhost:8080/"
        },
        "id": "0aMtljDN-iTk",
        "outputId": "c05398b0-4f2c-4bba-ddfc-6b03ec08cf29"
      },
      "execution_count": 7,
      "outputs": [
        {
          "output_type": "stream",
          "name": "stdout",
          "text": [
            "Old MacDonald had a farm\n",
            "Ee i ee i o\n",
            "And on his farm he had some cows\n",
            "Ee i ee i oh\n",
            "With a moo-moo here\n",
            "And a moo-moo there\n",
            "Here a moo, there a moo\n",
            "Everywhere a moo-moo\n"
          ]
        }
      ]
    },
    {
      "cell_type": "code",
      "source": [
        "class BirthdayBoy:\n",
        "    def __init__(self,name,age):\n",
        "        self.name = name\n",
        "        self.age = age\n",
        "\n",
        "    def birthday(self):\n",
        "        self.age+=1\n",
        "        return self.age\n",
        "Boy = BirthdayBoy('Aryaman',20)\n",
        "Boy.birthday()"
      ],
      "metadata": {
        "colab": {
          "base_uri": "https://localhost:8080/"
        },
        "id": "JzWoid1u_Q6S",
        "outputId": "387deb63-5d04-470f-b7ba-9385de8555f1"
      },
      "execution_count": 8,
      "outputs": [
        {
          "output_type": "execute_result",
          "data": {
            "text/plain": [
              "21"
            ]
          },
          "metadata": {},
          "execution_count": 8
        }
      ]
    },
    {
      "cell_type": "code",
      "source": [
        "class Rectangle:\n",
        "\n",
        "    def __init__(self,l,b):\n",
        "        self.length = l\n",
        "        self.breadth = b\n",
        "\n",
        "    def area(self):\n",
        "        self.area = self.length * self.breadth\n",
        "        return self.area\n",
        "Rect = Rectangle(12,3)\n",
        "Rect.area()"
      ],
      "metadata": {
        "colab": {
          "base_uri": "https://localhost:8080/"
        },
        "id": "T6_aWpTu_whY",
        "outputId": "3a123127-aa01-4877-ddf9-f52105045989"
      },
      "execution_count": 9,
      "outputs": [
        {
          "output_type": "execute_result",
          "data": {
            "text/plain": [
              "36"
            ]
          },
          "metadata": {},
          "execution_count": 9
        }
      ]
    },
    {
      "cell_type": "code",
      "source": [
        "import datetime\n",
        "class Dog:\n",
        "    name=\"Tom\"\n",
        "    breed='Pug'\n",
        "\n",
        "    dob = datetime.datetime(2023,1,1,12,30,0)\n",
        "\n",
        "    def bark(self):\n",
        "        print(\"WOOOOOOOOOOOOOFFFFFFFF\")\n",
        "        print(self.dob)\n",
        "\n",
        "    def get_name(self):\n",
        "        print(\"Dog name: \",self.name)\n",
        "\n",
        "    def set_name(self):\n",
        "        new_name = input(\"Enter dog's new name: \")\n",
        "        self.name = new_name\n",
        "obj = Dog()\n",
        "obj.get_name()\n",
        "obj.set_name()\n",
        "obj.bark()\n"
      ],
      "metadata": {
        "colab": {
          "base_uri": "https://localhost:8080/"
        },
        "id": "jPWhO8uQALGf",
        "outputId": "f6ee4518-cbd1-4597-f6e1-1278fb770221"
      },
      "execution_count": 10,
      "outputs": [
        {
          "output_type": "stream",
          "name": "stdout",
          "text": [
            "Dog name:  Tom\n",
            "Enter dog's new name: Tejas\n",
            "WOOOOOOOOOOOOOFFFFFFFF\n",
            "2023-01-01 12:30:00\n"
          ]
        }
      ]
    },
    {
      "cell_type": "code",
      "source": [
        "class Car:\n",
        "    def __init__(self,brand,model,year):\n",
        "        self.brand=brand\n",
        "        self.model = model\n",
        "        self.year = year\n",
        "    def PrintDetails(self):\n",
        "        print(\"Brand: {}\\nModel: {}\".format(self.brand,self.model))\n",
        "        print(\"Year of Manufacturing: \",self.year)\n",
        "\n",
        "\n",
        "car = Car('Suzuki','Swift',2020)\n",
        "car.PrintDetails()"
      ],
      "metadata": {
        "colab": {
          "base_uri": "https://localhost:8080/"
        },
        "id": "-p4RiI4KBRxY",
        "outputId": "b9ef740c-77a8-485c-c57f-f3c7d558b10b"
      },
      "execution_count": 11,
      "outputs": [
        {
          "output_type": "stream",
          "name": "stdout",
          "text": [
            "Brand: Suzuki\n",
            "Model: Swift\n",
            "Year of Manufacturing:  2020\n"
          ]
        }
      ]
    },
    {
      "cell_type": "code",
      "source": [
        "class Student:\n",
        "    def __init__(self,name = \"name\", age=20,grade=\"A\") -> None:\n",
        "        self.name = name\n",
        "        self.age = age\n",
        "        self.grade = grade\n",
        "\n",
        "    def Details(self):\n",
        "        return self.name , self.age, self.grade\n",
        "obj = Student()\n",
        "x , y, z = obj.Details()\n",
        "print(x,y,z)"
      ],
      "metadata": {
        "colab": {
          "base_uri": "https://localhost:8080/"
        },
        "id": "S9Z1SyDYCFeh",
        "outputId": "e33f22bf-259d-4ae9-f659-d3db843b31aa"
      },
      "execution_count": 13,
      "outputs": [
        {
          "output_type": "stream",
          "name": "stdout",
          "text": [
            "name 20 A\n"
          ]
        }
      ]
    },
    {
      "cell_type": "code",
      "source": [],
      "metadata": {
        "id": "MDTgQermCn7o"
      },
      "execution_count": null,
      "outputs": []
    }
  ]
}