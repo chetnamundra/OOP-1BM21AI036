{
 "cells": [
  {
   "cell_type": "markdown",
   "id": "b9ce4ca8",
   "metadata": {},
   "source": [
    "# 1.Write a program to demonstrate list slicing in python."
   ]
  },
  {
   "cell_type": "code",
   "execution_count": 11,
   "id": "736dec47",
   "metadata": {},
   "outputs": [
    {
     "name": "stdout",
     "output_type": "stream",
     "text": [
      "[1, 2, 3, 4, 5, 6, 7, 8, 9]\n",
      "[1, 3, 5, 7, 9]\n",
      "[1, 2, 3, 4]\n",
      "[5, 6, 7, 8]\n",
      "[9, 8, 7, 6, 5, 4, 3, 2, 1]\n",
      "[8, 6, 4, 2]\n"
     ]
    }
   ],
   "source": [
    "l=[1,2,3,4,5,6,7,8,9]\n",
    "print(l[::])\n",
    "print(l[::2])\n",
    "print(l[0:4])\n",
    "print(l[-5:-1])\n",
    "print(l[::-1])\n",
    "print(l[-2::-2])"
   ]
  },
  {
   "cell_type": "markdown",
   "id": "d805d950",
   "metadata": {},
   "source": [
    "# 2.Write a program to combine 2 lists of even and odd numbers (repeated numbers possible) after combining, convert it into a dictionary where values are number of occurences"
   ]
  },
  {
   "cell_type": "code",
   "execution_count": 49,
   "id": "ad902468",
   "metadata": {},
   "outputs": [
    {
     "name": "stdout",
     "output_type": "stream",
     "text": [
      "[1, 3, 5, 7, 9, 9, 9, 9, 2, 4, 6, 8, 10]\n",
      "[1, 2, 3, 4, 5, 6, 7, 8, 9, 9, 9, 9, 10]\n",
      "{1: 1, 2: 1, 3: 1, 4: 1, 5: 1, 6: 1, 7: 1, 8: 1, 9: 4, 10: 1}\n"
     ]
    }
   ],
   "source": [
    "l1=[1,3,5,7,9,9,9,9]\n",
    "l2=[2,4,6,8,10]\n",
    "l1.extend(l2)\n",
    "print(l1)\n",
    "\n",
    "l1.sort()\n",
    "d={}\n",
    "print(l1)\n",
    "for i in l1:\n",
    "    if i in d.keys():\n",
    "        d[i]+=1\n",
    "    else:\n",
    "        d[i]=1\n",
    "print(d)"
   ]
  },
  {
   "cell_type": "markdown",
   "id": "d46da022",
   "metadata": {},
   "source": [
    "# 3.Write a program to import csv file and display the contents of the file. CSV file contains list of your friends names and email ids. Validate each email id using regular expressions."
   ]
  },
  {
   "cell_type": "code",
   "execution_count": 3,
   "id": "2f70bf1c",
   "metadata": {},
   "outputs": [
    {
     "data": {
      "text/html": [
       "<div>\n",
       "<style scoped>\n",
       "    .dataframe tbody tr th:only-of-type {\n",
       "        vertical-align: middle;\n",
       "    }\n",
       "\n",
       "    .dataframe tbody tr th {\n",
       "        vertical-align: top;\n",
       "    }\n",
       "\n",
       "    .dataframe thead th {\n",
       "        text-align: right;\n",
       "    }\n",
       "</style>\n",
       "<table border=\"1\" class=\"dataframe\">\n",
       "  <thead>\n",
       "    <tr style=\"text-align: right;\">\n",
       "      <th></th>\n",
       "      <th>Name</th>\n",
       "      <th>Email_id</th>\n",
       "    </tr>\n",
       "  </thead>\n",
       "  <tbody>\n",
       "    <tr>\n",
       "      <th>0</th>\n",
       "      <td>Aryaman</td>\n",
       "      <td>aryaman@gmail.com</td>\n",
       "    </tr>\n",
       "    <tr>\n",
       "      <th>1</th>\n",
       "      <td>Chethana</td>\n",
       "      <td>chethana@gmail.com</td>\n",
       "    </tr>\n",
       "    <tr>\n",
       "      <th>2</th>\n",
       "      <td>Archit</td>\n",
       "      <td>archit@gmail.com</td>\n",
       "    </tr>\n",
       "    <tr>\n",
       "      <th>3</th>\n",
       "      <td>Ayush</td>\n",
       "      <td>ayus@gmail.com</td>\n",
       "    </tr>\n",
       "    <tr>\n",
       "      <th>4</th>\n",
       "      <td>Madhu</td>\n",
       "      <td>madhu@bmsce.ac.in</td>\n",
       "    </tr>\n",
       "  </tbody>\n",
       "</table>\n",
       "</div>"
      ],
      "text/plain": [
       "       Name            Email_id\n",
       "0   Aryaman   aryaman@gmail.com\n",
       "1  Chethana  chethana@gmail.com\n",
       "2    Archit    archit@gmail.com\n",
       "3     Ayush      ayus@gmail.com\n",
       "4     Madhu   madhu@bmsce.ac.in"
      ]
     },
     "execution_count": 3,
     "metadata": {},
     "output_type": "execute_result"
    }
   ],
   "source": [
    "import pandas as pd\n",
    "df = pd.read_csv('friend.csv')\n",
    "df.head()\n"
   ]
  },
  {
   "cell_type": "code",
   "execution_count": 8,
   "id": "237b5fcc",
   "metadata": {},
   "outputs": [
    {
     "name": "stdout",
     "output_type": "stream",
     "text": [
      "['aryaman@gmail.com', 'chethana@gmail.com', 'archit@gmail.com', 'ayus@gmail.com']\n"
     ]
    }
   ],
   "source": [
    "valid = []\n",
    "for i in df['Email_id']:\n",
    "    if '@gmail.com' in i :\n",
    "        valid.append(i)\n",
    "\n",
    "print(valid)\n",
    "        "
   ]
  },
  {
   "cell_type": "markdown",
   "id": "86ef327f",
   "metadata": {},
   "source": [
    "# Create a text file called story.txt. Import a text file preprocess it by removing commas, special characters, etc. Count the number of words and identify the most frequent word"
   ]
  },
  {
   "cell_type": "code",
   "execution_count": 8,
   "id": "210b1a7f",
   "metadata": {},
   "outputs": [
    {
     "name": "stdout",
     "output_type": "stream",
     "text": [
      "['The ant and the grasshopper were good friends \\n', 'In the summer the ant works hard to fill his storage with food \\n', 'While the grasshopper was enjoying the fine weather and playing all day \\n', '\\n', 'When winter came the ant was lying cozily in his home surrounded by the food he stored during the summer \\n', 'While the grasshopper was in his home hungry and freezing \\n', 'He asked the ant for food and the ant gave him some \\n', 'But it wasnt enough to last the entire winter \\n', 'When he tried to ask the ant again the latter replied Im sorry my friend but my food is just enough for my family to last until the end of winter If I give you more we too will starve We had the entire summer to prepare for the winter but you chose to play instead']\n",
      "\n",
      "The ant and the grasshopper were good friends \n",
      "In the summer the ant works hard to fill his storage with food \n",
      "While the grasshopper was enjoying the fine weather and playing all day \n",
      "\n",
      "When winter came the ant was lying cozily in his home surrounded by the food he stored during the summer \n",
      "While the grasshopper was in his home hungry and freezing \n",
      "He asked the ant for food and the ant gave him some \n",
      "But it wasnt enough to last the entire winter \n",
      "When he tried to ask the ant again the latter replied Im sorry my friend but my food is just enough for my family to last until the end of winter If I give you more we too will starve We had the entire summer to prepare for the winter but you chose to play instead\n",
      "\n",
      "9\n",
      "140\n",
      "most frequent word= the\n"
     ]
    }
   ],
   "source": [
    "file1 = open(\"story.txt\", \"r+\")\n",
    "l=file1.readlines()\n",
    "print(l)\n",
    "print()\n",
    "file1.close()\n",
    "#to remove special chacracters\n",
    "file2 = open(\"story.txt\", \"w\")\n",
    "s=''\n",
    "for i in l:\n",
    "    \n",
    "    for j in i:\n",
    "        if j in ['\"',\"'\",',','.',';',':','{','}','[',']']:\n",
    "            pass\n",
    "        else:\n",
    "            s+=j\n",
    "print(s)   \n",
    "file2.write(s)\n",
    "file2.close()\n",
    "file1 = open(\"story.txt\", \"r+\")\n",
    "l2=file1.readlines()\n",
    "print(file1.read())\n",
    "\n",
    "#number of lines=\n",
    "print(len(l2))\n",
    "\n",
    "#number of words\n",
    "count=0\n",
    "for i in l2:\n",
    "    count+=len(i.split())\n",
    "print(count)\n",
    "\n",
    "#most frequent word:\n",
    "d={}\n",
    "for i in l2:\n",
    "    for j in i.split():\n",
    "        if j in d.keys():\n",
    "            d[j]+=1\n",
    "        else:\n",
    "            d[j]=1\n",
    "ma=0\n",
    "g=''\n",
    "for i in d:\n",
    "    if d[i]>ma:\n",
    "        ma=d[i]\n",
    "        g=i\n",
    "print('most frequent word=', g)"
   ]
  }
 ],
 "metadata": {
  "kernelspec": {
   "display_name": "Python 3 (ipykernel)",
   "language": "python",
   "name": "python3"
  },
  "language_info": {
   "codemirror_mode": {
    "name": "ipython",
    "version": 3
   },
   "file_extension": ".py",
   "mimetype": "text/x-python",
   "name": "python",
   "nbconvert_exporter": "python",
   "pygments_lexer": "ipython3",
   "version": "3.11.3"
  }
 },
 "nbformat": 4,
 "nbformat_minor": 5
}
